{
 "cells": [
  {
   "cell_type": "code",
   "execution_count": 171,
   "metadata": {},
   "outputs": [],
   "source": [
    "import pandas as pd\n",
    "import re\n",
    "import glob\n",
    "from sqlalchemy import create_engine\n",
    "\n"
   ]
  },
  {
   "cell_type": "code",
   "execution_count": 172,
   "metadata": {},
   "outputs": [],
   "source": [
    "folder_path = 'I:/Expense tracking/Apple Pay'\n",
    "# folder_path='D:/Personal Projects/Expense tracking/Apple Pay'\n",
    "file_pattern = folder_path + '/*.csv'  # Adjust the pattern if using other formats, e.g., '*.xlsx'\n",
    "\n",
    "# Use glob to find all files matching the pattern\n",
    "file_list = glob.glob(file_pattern)\n",
    "\n",
    "# Read all files and concatenate them into a single DataFrame\n",
    "df_apple_pay = pd.concat((pd.read_csv(file) for file in file_list), ignore_index=True)"
   ]
  },
  {
   "cell_type": "code",
   "execution_count": 173,
   "metadata": {},
   "outputs": [
    {
     "data": {
      "text/html": [
       "<div>\n",
       "<style scoped>\n",
       "    .dataframe tbody tr th:only-of-type {\n",
       "        vertical-align: middle;\n",
       "    }\n",
       "\n",
       "    .dataframe tbody tr th {\n",
       "        vertical-align: top;\n",
       "    }\n",
       "\n",
       "    .dataframe thead th {\n",
       "        text-align: right;\n",
       "    }\n",
       "</style>\n",
       "<table border=\"1\" class=\"dataframe\">\n",
       "  <thead>\n",
       "    <tr style=\"text-align: right;\">\n",
       "      <th></th>\n",
       "      <th>Transaction Date</th>\n",
       "      <th>Clearing Date</th>\n",
       "      <th>Description</th>\n",
       "      <th>Merchant</th>\n",
       "      <th>Category</th>\n",
       "      <th>Type</th>\n",
       "      <th>Amount (USD)</th>\n",
       "      <th>Purchased By</th>\n",
       "    </tr>\n",
       "  </thead>\n",
       "  <tbody>\n",
       "    <tr>\n",
       "      <th>0</th>\n",
       "      <td>04/29/2024</td>\n",
       "      <td>04/30/2024</td>\n",
       "      <td>GOODYEAR ASC #4181 8012 COIT ROAD PLANO 75024 ...</td>\n",
       "      <td>Goodyear</td>\n",
       "      <td>Other</td>\n",
       "      <td>Purchase</td>\n",
       "      <td>117.49</td>\n",
       "      <td>Sandeep Rani Pradeep Kumar</td>\n",
       "    </tr>\n",
       "    <tr>\n",
       "      <th>1</th>\n",
       "      <td>04/30/2024</td>\n",
       "      <td>04/30/2024</td>\n",
       "      <td>ACH DEPOSIT INTERNET TRANSFER FROM ACCOUNT END...</td>\n",
       "      <td>Ach Deposit Internet Transfer From Account End...</td>\n",
       "      <td>Payment</td>\n",
       "      <td>Payment</td>\n",
       "      <td>-165.62</td>\n",
       "      <td>Sandeep Rani Pradeep Kumar</td>\n",
       "    </tr>\n",
       "    <tr>\n",
       "      <th>2</th>\n",
       "      <td>04/23/2024</td>\n",
       "      <td>04/24/2024</td>\n",
       "      <td>DUNKIN #346310 7317 PARKWOOD BOULEVARD PLANO 7...</td>\n",
       "      <td>Dunkin'</td>\n",
       "      <td>Restaurants</td>\n",
       "      <td>Purchase</td>\n",
       "      <td>2.81</td>\n",
       "      <td>Sandeep Rani Pradeep Kumar</td>\n",
       "    </tr>\n",
       "    <tr>\n",
       "      <th>3</th>\n",
       "      <td>04/22/2024</td>\n",
       "      <td>04/23/2024</td>\n",
       "      <td>FEDEX OFFIC798000079898290 STATE HWY 121 FRISC...</td>\n",
       "      <td>FedEx</td>\n",
       "      <td>Other</td>\n",
       "      <td>Purchase</td>\n",
       "      <td>6.54</td>\n",
       "      <td>Sandeep Rani Pradeep Kumar</td>\n",
       "    </tr>\n",
       "    <tr>\n",
       "      <th>4</th>\n",
       "      <td>04/19/2024</td>\n",
       "      <td>04/20/2024</td>\n",
       "      <td>WDW TICKETS 1375 E BUENA VISTA DR LAKE BUENA V...</td>\n",
       "      <td>WDW Tickets</td>\n",
       "      <td>Entertainment</td>\n",
       "      <td>Purchase</td>\n",
       "      <td>381.28</td>\n",
       "      <td>Sandeep Rani Pradeep Kumar</td>\n",
       "    </tr>\n",
       "  </tbody>\n",
       "</table>\n",
       "</div>"
      ],
      "text/plain": [
       "  Transaction Date Clearing Date  \\\n",
       "0       04/29/2024    04/30/2024   \n",
       "1       04/30/2024    04/30/2024   \n",
       "2       04/23/2024    04/24/2024   \n",
       "3       04/22/2024    04/23/2024   \n",
       "4       04/19/2024    04/20/2024   \n",
       "\n",
       "                                         Description  \\\n",
       "0  GOODYEAR ASC #4181 8012 COIT ROAD PLANO 75024 ...   \n",
       "1  ACH DEPOSIT INTERNET TRANSFER FROM ACCOUNT END...   \n",
       "2  DUNKIN #346310 7317 PARKWOOD BOULEVARD PLANO 7...   \n",
       "3  FEDEX OFFIC798000079898290 STATE HWY 121 FRISC...   \n",
       "4  WDW TICKETS 1375 E BUENA VISTA DR LAKE BUENA V...   \n",
       "\n",
       "                                            Merchant       Category      Type  \\\n",
       "0                                           Goodyear          Other  Purchase   \n",
       "1  Ach Deposit Internet Transfer From Account End...        Payment   Payment   \n",
       "2                                            Dunkin'    Restaurants  Purchase   \n",
       "3                                              FedEx          Other  Purchase   \n",
       "4                                        WDW Tickets  Entertainment  Purchase   \n",
       "\n",
       "   Amount (USD)                Purchased By  \n",
       "0        117.49  Sandeep Rani Pradeep Kumar  \n",
       "1       -165.62  Sandeep Rani Pradeep Kumar  \n",
       "2          2.81  Sandeep Rani Pradeep Kumar  \n",
       "3          6.54  Sandeep Rani Pradeep Kumar  \n",
       "4        381.28  Sandeep Rani Pradeep Kumar  "
      ]
     },
     "execution_count": 173,
     "metadata": {},
     "output_type": "execute_result"
    }
   ],
   "source": [
    "df_apple_pay.head()"
   ]
  },
  {
   "cell_type": "code",
   "execution_count": 174,
   "metadata": {},
   "outputs": [],
   "source": [
    "# df_apple_pay['Transaction Date'] = pd.to_datetime(df_apple_pay['Transaction Date'])\n",
    "# df_apple_pay['Transaction Date']=df_apple_pay['Transaction Date'].dt.strftime('%m/%d/%y')\n",
    "# # df_apple_pay['Transaction Date']=pd.to_datetime(df_apple_pay['Transaction Date'], format='%m/%d/%y')"
   ]
  },
  {
   "cell_type": "code",
   "execution_count": 175,
   "metadata": {},
   "outputs": [],
   "source": [
    "df_apple_pay=df_apple_pay[['Transaction Date','Description','Category','Amount (USD)','Merchant']]\n",
    "df_apple_pay['Institution']='Apple Pay Credit Card'\n",
    "df_apple_pay['Is Hidden']='No'\n",
    "df_apple_pay['Is Pending']='No'\n",
    "df_apple_pay['Account']='APPLE PAY'\n"
   ]
  },
  {
   "cell_type": "code",
   "execution_count": 176,
   "metadata": {},
   "outputs": [],
   "source": [
    "df_apple_pay.rename(columns={\"Merchant\":\"Standardized Description\",\"Amount (USD)\":\"Amount\"},inplace=True)\n",
    "dtype_dict = {\n",
    "    'Transaction Date':'datetime64[ns]',\n",
    "    'Description': 'string',\n",
    "    'Institution': 'string',\n",
    "    'Account': 'string',\n",
    "    'Category': 'string',\n",
    "    'Is Hidden': 'string',\n",
    "    'Is Pending': 'string',\n",
    "    'Amount': 'float64',\n",
    "    'Standardized Description': 'string'\n",
    "}\n",
    "df_apple_pay = df_apple_pay.astype(dtype_dict)\n",
    "# df_apple_pay['Transaction Date']=df_apple_pay['Transaction Date'].dt.strftime('%m/%d/%y')\n",
    "df_apple_pay=df_apple_pay[['Transaction Date','Description','Institution','Account','Category','Is Hidden','Is Pending','Amount','Standardized Description']]\n"
   ]
  },
  {
   "cell_type": "code",
   "execution_count": 177,
   "metadata": {},
   "outputs": [
    {
     "data": {
      "text/html": [
       "<div>\n",
       "<style scoped>\n",
       "    .dataframe tbody tr th:only-of-type {\n",
       "        vertical-align: middle;\n",
       "    }\n",
       "\n",
       "    .dataframe tbody tr th {\n",
       "        vertical-align: top;\n",
       "    }\n",
       "\n",
       "    .dataframe thead th {\n",
       "        text-align: right;\n",
       "    }\n",
       "</style>\n",
       "<table border=\"1\" class=\"dataframe\">\n",
       "  <thead>\n",
       "    <tr style=\"text-align: right;\">\n",
       "      <th></th>\n",
       "      <th>Transaction Date</th>\n",
       "      <th>Description</th>\n",
       "      <th>Institution</th>\n",
       "      <th>Account</th>\n",
       "      <th>Category</th>\n",
       "      <th>Is Hidden</th>\n",
       "      <th>Is Pending</th>\n",
       "      <th>Amount</th>\n",
       "      <th>Standardized Description</th>\n",
       "    </tr>\n",
       "  </thead>\n",
       "  <tbody>\n",
       "    <tr>\n",
       "      <th>0</th>\n",
       "      <td>2024-04-29</td>\n",
       "      <td>GOODYEAR ASC #4181 8012 COIT ROAD PLANO 75024 ...</td>\n",
       "      <td>Apple Pay Credit Card</td>\n",
       "      <td>APPLE PAY</td>\n",
       "      <td>Other</td>\n",
       "      <td>No</td>\n",
       "      <td>No</td>\n",
       "      <td>117.49</td>\n",
       "      <td>Goodyear</td>\n",
       "    </tr>\n",
       "    <tr>\n",
       "      <th>1</th>\n",
       "      <td>2024-04-30</td>\n",
       "      <td>ACH DEPOSIT INTERNET TRANSFER FROM ACCOUNT END...</td>\n",
       "      <td>Apple Pay Credit Card</td>\n",
       "      <td>APPLE PAY</td>\n",
       "      <td>Payment</td>\n",
       "      <td>No</td>\n",
       "      <td>No</td>\n",
       "      <td>-165.62</td>\n",
       "      <td>Ach Deposit Internet Transfer From Account End...</td>\n",
       "    </tr>\n",
       "    <tr>\n",
       "      <th>2</th>\n",
       "      <td>2024-04-23</td>\n",
       "      <td>DUNKIN #346310 7317 PARKWOOD BOULEVARD PLANO 7...</td>\n",
       "      <td>Apple Pay Credit Card</td>\n",
       "      <td>APPLE PAY</td>\n",
       "      <td>Restaurants</td>\n",
       "      <td>No</td>\n",
       "      <td>No</td>\n",
       "      <td>2.81</td>\n",
       "      <td>Dunkin'</td>\n",
       "    </tr>\n",
       "    <tr>\n",
       "      <th>3</th>\n",
       "      <td>2024-04-22</td>\n",
       "      <td>FEDEX OFFIC798000079898290 STATE HWY 121 FRISC...</td>\n",
       "      <td>Apple Pay Credit Card</td>\n",
       "      <td>APPLE PAY</td>\n",
       "      <td>Other</td>\n",
       "      <td>No</td>\n",
       "      <td>No</td>\n",
       "      <td>6.54</td>\n",
       "      <td>FedEx</td>\n",
       "    </tr>\n",
       "    <tr>\n",
       "      <th>4</th>\n",
       "      <td>2024-04-19</td>\n",
       "      <td>WDW TICKETS 1375 E BUENA VISTA DR LAKE BUENA V...</td>\n",
       "      <td>Apple Pay Credit Card</td>\n",
       "      <td>APPLE PAY</td>\n",
       "      <td>Entertainment</td>\n",
       "      <td>No</td>\n",
       "      <td>No</td>\n",
       "      <td>381.28</td>\n",
       "      <td>WDW Tickets</td>\n",
       "    </tr>\n",
       "  </tbody>\n",
       "</table>\n",
       "</div>"
      ],
      "text/plain": [
       "  Transaction Date                                        Description  \\\n",
       "0       2024-04-29  GOODYEAR ASC #4181 8012 COIT ROAD PLANO 75024 ...   \n",
       "1       2024-04-30  ACH DEPOSIT INTERNET TRANSFER FROM ACCOUNT END...   \n",
       "2       2024-04-23  DUNKIN #346310 7317 PARKWOOD BOULEVARD PLANO 7...   \n",
       "3       2024-04-22  FEDEX OFFIC798000079898290 STATE HWY 121 FRISC...   \n",
       "4       2024-04-19  WDW TICKETS 1375 E BUENA VISTA DR LAKE BUENA V...   \n",
       "\n",
       "             Institution    Account       Category Is Hidden Is Pending  \\\n",
       "0  Apple Pay Credit Card  APPLE PAY          Other        No         No   \n",
       "1  Apple Pay Credit Card  APPLE PAY        Payment        No         No   \n",
       "2  Apple Pay Credit Card  APPLE PAY    Restaurants        No         No   \n",
       "3  Apple Pay Credit Card  APPLE PAY          Other        No         No   \n",
       "4  Apple Pay Credit Card  APPLE PAY  Entertainment        No         No   \n",
       "\n",
       "   Amount                           Standardized Description  \n",
       "0  117.49                                           Goodyear  \n",
       "1 -165.62  Ach Deposit Internet Transfer From Account End...  \n",
       "2    2.81                                            Dunkin'  \n",
       "3    6.54                                              FedEx  \n",
       "4  381.28                                        WDW Tickets  "
      ]
     },
     "execution_count": 177,
     "metadata": {},
     "output_type": "execute_result"
    }
   ],
   "source": [
    "df_apple_pay.head()"
   ]
  },
  {
   "cell_type": "code",
   "execution_count": 178,
   "metadata": {},
   "outputs": [],
   "source": [
    "# pd.set_option('display.max_rows', None)\n",
    "# pd.set_option('display.max_columns', None)"
   ]
  },
  {
   "cell_type": "code",
   "execution_count": 179,
   "metadata": {},
   "outputs": [],
   "source": [
    "def convert_accounting_to_decimal(amount):\n",
    "    # Remove parentheses and commas\n",
    "    amount = amount.replace('$', '').replace('(', '-').replace(')', '').replace(',', '')\n",
    "    # Convert to float\n",
    "    return float(amount)"
   ]
  },
  {
   "cell_type": "code",
   "execution_count": 180,
   "metadata": {},
   "outputs": [
    {
     "name": "stdout",
     "output_type": "stream",
     "text": [
      "['I:/Expense tracking\\\\Transactions 2022_06-2023_06.csv', 'I:/Expense tracking\\\\Transactions 2023_06-2024_06.csv', 'I:/Expense tracking\\\\Transactions Full.csv']\n"
     ]
    }
   ],
   "source": [
    "\n",
    "file_names = ['Transactions 2022_06-2023_06.csv', 'Transactions 2023_06-2024_06.csv']\n",
    "folder_path = 'I:/Expense tracking'\n",
    "# folder_path='D:/Personal Projects/Expense tracking'\n",
    "file_pattern = folder_path + '/*.csv'  # Adjust the pattern if using other formats, e.g., '*.xlsx'\n",
    "\n",
    "# Use glob to find all files matching the pattern\n",
    "file_list = glob.glob(file_pattern)\n",
    "print(file_list)\n",
    "\n",
    "# Load and concatenate the files into a single DataFrame\n",
    "df = pd.concat([pd.read_csv(file) for file in file_names], ignore_index=True)\n"
   ]
  },
  {
   "cell_type": "code",
   "execution_count": 181,
   "metadata": {},
   "outputs": [],
   "source": [
    "df['Amount']=df['Amount'].apply(convert_accounting_to_decimal)"
   ]
  },
  {
   "cell_type": "code",
   "execution_count": 182,
   "metadata": {},
   "outputs": [],
   "source": [
    "df['Standardized Description']=''\n",
    "df.rename(columns={\"Date\":\"Transaction Date\"},inplace=True)\n"
   ]
  },
  {
   "cell_type": "code",
   "execution_count": 183,
   "metadata": {},
   "outputs": [],
   "source": [
    "\n",
    "dtype_dict = {\n",
    "    'Transaction Date':'datetime64[ns]',\n",
    "    'Description': 'string',\n",
    "    'Institution': 'string',\n",
    "    'Account': 'string',\n",
    "    'Category': 'string',\n",
    "    'Is Hidden': 'string',\n",
    "    'Is Pending': 'string',\n",
    "    'Amount': 'float64',\n",
    "    'Standardized Description': 'string'\n",
    "}\n",
    "df = df.astype(dtype_dict)\n",
    "# len(df)"
   ]
  },
  {
   "cell_type": "code",
   "execution_count": 184,
   "metadata": {},
   "outputs": [
    {
     "data": {
      "text/plain": [
       "<StringArray>\n",
       "[               'DISCOVER',                    'AMEX',\n",
       "          'CHASE CHECKING',           'CHASE FREEDOM',\n",
       "               'ROBINHOOD',           'CHASE SAVINGS',\n",
       "           'GOLDMAN SACHS', 'CHARLES SCHWAB CHECKING',\n",
       "    'WELLS FARGO CHECKING']\n",
       "Length: 9, dtype: string"
      ]
     },
     "execution_count": 184,
     "metadata": {},
     "output_type": "execute_result"
    }
   ],
   "source": [
    "df['Account'].unique()"
   ]
  },
  {
   "cell_type": "code",
   "execution_count": 185,
   "metadata": {},
   "outputs": [
    {
     "data": {
      "text/plain": [
       "2417"
      ]
     },
     "execution_count": 185,
     "metadata": {},
     "output_type": "execute_result"
    }
   ],
   "source": [
    "len(df)"
   ]
  },
  {
   "cell_type": "code",
   "execution_count": 186,
   "metadata": {},
   "outputs": [],
   "source": [
    "df_full=pd.concat([df,df_apple_pay],ignore_index=True)"
   ]
  },
  {
   "cell_type": "code",
   "execution_count": 187,
   "metadata": {},
   "outputs": [
    {
     "data": {
      "text/plain": [
       "2485"
      ]
     },
     "execution_count": 187,
     "metadata": {},
     "output_type": "execute_result"
    }
   ],
   "source": [
    "len(df_full)"
   ]
  },
  {
   "cell_type": "code",
   "execution_count": 188,
   "metadata": {},
   "outputs": [
    {
     "data": {
      "text/html": [
       "<div>\n",
       "<style scoped>\n",
       "    .dataframe tbody tr th:only-of-type {\n",
       "        vertical-align: middle;\n",
       "    }\n",
       "\n",
       "    .dataframe tbody tr th {\n",
       "        vertical-align: top;\n",
       "    }\n",
       "\n",
       "    .dataframe thead th {\n",
       "        text-align: right;\n",
       "    }\n",
       "</style>\n",
       "<table border=\"1\" class=\"dataframe\">\n",
       "  <thead>\n",
       "    <tr style=\"text-align: right;\">\n",
       "      <th></th>\n",
       "      <th>Transaction Date</th>\n",
       "      <th>Description</th>\n",
       "      <th>Institution</th>\n",
       "      <th>Account</th>\n",
       "      <th>Category</th>\n",
       "      <th>Is Hidden</th>\n",
       "      <th>Is Pending</th>\n",
       "      <th>Amount</th>\n",
       "      <th>Standardized Description</th>\n",
       "    </tr>\n",
       "  </thead>\n",
       "  <tbody>\n",
       "    <tr>\n",
       "      <th>2220</th>\n",
       "      <td>2023-08-08</td>\n",
       "      <td>NAYAX COPY SERVICES</td>\n",
       "      <td>Chase - via Direct Web API</td>\n",
       "      <td>CHASE FREEDOM</td>\n",
       "      <td>Medical</td>\n",
       "      <td>No</td>\n",
       "      <td>No</td>\n",
       "      <td>-3.00</td>\n",
       "      <td></td>\n",
       "    </tr>\n",
       "    <tr>\n",
       "      <th>2221</th>\n",
       "      <td>2023-08-08</td>\n",
       "      <td>NAYAX COPY SERVICES</td>\n",
       "      <td>Chase - via Direct Web API</td>\n",
       "      <td>CHASE FREEDOM</td>\n",
       "      <td>Medical</td>\n",
       "      <td>No</td>\n",
       "      <td>No</td>\n",
       "      <td>-0.45</td>\n",
       "      <td></td>\n",
       "    </tr>\n",
       "    <tr>\n",
       "      <th>2435</th>\n",
       "      <td>2024-02-22</td>\n",
       "      <td>THE JOINT PRESTON ROA8240 PRESTON ROAD STE 165...</td>\n",
       "      <td>Apple Pay Credit Card</td>\n",
       "      <td>APPLE PAY</td>\n",
       "      <td>Medical</td>\n",
       "      <td>No</td>\n",
       "      <td>No</td>\n",
       "      <td>118.00</td>\n",
       "      <td>The Joint</td>\n",
       "    </tr>\n",
       "    <tr>\n",
       "      <th>2452</th>\n",
       "      <td>2024-06-11</td>\n",
       "      <td>THE JOINT PRESTON ROA8240 PRESTON ROAD STE 165...</td>\n",
       "      <td>Apple Pay Credit Card</td>\n",
       "      <td>APPLE PAY</td>\n",
       "      <td>Medical</td>\n",
       "      <td>No</td>\n",
       "      <td>No</td>\n",
       "      <td>89.00</td>\n",
       "      <td>The Joint</td>\n",
       "    </tr>\n",
       "    <tr>\n",
       "      <th>2461</th>\n",
       "      <td>2024-03-22</td>\n",
       "      <td>THE JOINT PRESTON ROA8240 PRESTON ROAD STE 165...</td>\n",
       "      <td>Apple Pay Credit Card</td>\n",
       "      <td>APPLE PAY</td>\n",
       "      <td>Medical</td>\n",
       "      <td>No</td>\n",
       "      <td>No</td>\n",
       "      <td>89.00</td>\n",
       "      <td>The Joint</td>\n",
       "    </tr>\n",
       "  </tbody>\n",
       "</table>\n",
       "</div>"
      ],
      "text/plain": [
       "     Transaction Date                                        Description  \\\n",
       "2220       2023-08-08                                NAYAX COPY SERVICES   \n",
       "2221       2023-08-08                                NAYAX COPY SERVICES   \n",
       "2435       2024-02-22  THE JOINT PRESTON ROA8240 PRESTON ROAD STE 165...   \n",
       "2452       2024-06-11  THE JOINT PRESTON ROA8240 PRESTON ROAD STE 165...   \n",
       "2461       2024-03-22  THE JOINT PRESTON ROA8240 PRESTON ROAD STE 165...   \n",
       "\n",
       "                     Institution        Account Category Is Hidden Is Pending  \\\n",
       "2220  Chase - via Direct Web API  CHASE FREEDOM  Medical        No         No   \n",
       "2221  Chase - via Direct Web API  CHASE FREEDOM  Medical        No         No   \n",
       "2435       Apple Pay Credit Card      APPLE PAY  Medical        No         No   \n",
       "2452       Apple Pay Credit Card      APPLE PAY  Medical        No         No   \n",
       "2461       Apple Pay Credit Card      APPLE PAY  Medical        No         No   \n",
       "\n",
       "      Amount Standardized Description  \n",
       "2220   -3.00                           \n",
       "2221   -0.45                           \n",
       "2435  118.00                The Joint  \n",
       "2452   89.00                The Joint  \n",
       "2461   89.00                The Joint  "
      ]
     },
     "execution_count": 188,
     "metadata": {},
     "output_type": "execute_result"
    }
   ],
   "source": [
    "# pd.reset_option('display.max_rows')\n",
    "# pd.reset_option('display.max_columns')\n",
    "df_full[df_full['Account']=='APPLE PAY']['Category'].unique()\n",
    "df_full[df_full['Category']=='Medical']"
   ]
  },
  {
   "cell_type": "code",
   "execution_count": 189,
   "metadata": {},
   "outputs": [
    {
     "data": {
      "text/html": [
       "<div>\n",
       "<style scoped>\n",
       "    .dataframe tbody tr th:only-of-type {\n",
       "        vertical-align: middle;\n",
       "    }\n",
       "\n",
       "    .dataframe tbody tr th {\n",
       "        vertical-align: top;\n",
       "    }\n",
       "\n",
       "    .dataframe thead th {\n",
       "        text-align: right;\n",
       "    }\n",
       "</style>\n",
       "<table border=\"1\" class=\"dataframe\">\n",
       "  <thead>\n",
       "    <tr style=\"text-align: right;\">\n",
       "      <th></th>\n",
       "      <th>Transaction Date</th>\n",
       "      <th>Description</th>\n",
       "      <th>Institution</th>\n",
       "      <th>Account</th>\n",
       "      <th>Category</th>\n",
       "      <th>Is Hidden</th>\n",
       "      <th>Is Pending</th>\n",
       "      <th>Amount</th>\n",
       "      <th>Standardized Description</th>\n",
       "    </tr>\n",
       "  </thead>\n",
       "  <tbody>\n",
       "    <tr>\n",
       "      <th>0</th>\n",
       "      <td>2023-06-13</td>\n",
       "      <td>AMZN MKTP US AMZN.COM BILLWA</td>\n",
       "      <td>Discover Credit Card - via Direct Web Access</td>\n",
       "      <td>DISCOVER</td>\n",
       "      <td>Shopping</td>\n",
       "      <td>No</td>\n",
       "      <td>No</td>\n",
       "      <td>-16.63</td>\n",
       "      <td></td>\n",
       "    </tr>\n",
       "    <tr>\n",
       "      <th>1</th>\n",
       "      <td>2023-06-13</td>\n",
       "      <td>FRISCO TX</td>\n",
       "      <td>Discover Credit Card - via Direct Web Access</td>\n",
       "      <td>DISCOVER</td>\n",
       "      <td>Gas &amp; Fuel</td>\n",
       "      <td>No</td>\n",
       "      <td>No</td>\n",
       "      <td>-30.00</td>\n",
       "      <td></td>\n",
       "    </tr>\n",
       "    <tr>\n",
       "      <th>2</th>\n",
       "      <td>2023-06-13</td>\n",
       "      <td>AMZN MKTP US AMZN.COM BILLWA</td>\n",
       "      <td>Discover Credit Card - via Direct Web Access</td>\n",
       "      <td>DISCOVER</td>\n",
       "      <td>Shopping</td>\n",
       "      <td>No</td>\n",
       "      <td>No</td>\n",
       "      <td>-23.99</td>\n",
       "      <td></td>\n",
       "    </tr>\n",
       "    <tr>\n",
       "      <th>3</th>\n",
       "      <td>2023-06-12</td>\n",
       "      <td>APLPAY STARBUCKS WA</td>\n",
       "      <td>American Express - Amex Account - via Direct W...</td>\n",
       "      <td>AMEX</td>\n",
       "      <td>Coffee</td>\n",
       "      <td>No</td>\n",
       "      <td>No</td>\n",
       "      <td>-10.00</td>\n",
       "      <td></td>\n",
       "    </tr>\n",
       "    <tr>\n",
       "      <th>4</th>\n",
       "      <td>2023-06-12</td>\n",
       "      <td>ZELLE PAYMENT TO BOOKSHELF</td>\n",
       "      <td>Chase - via Direct Web API</td>\n",
       "      <td>CHASE CHECKING</td>\n",
       "      <td>Online Payment</td>\n",
       "      <td>No</td>\n",
       "      <td>No</td>\n",
       "      <td>-10.00</td>\n",
       "      <td></td>\n",
       "    </tr>\n",
       "  </tbody>\n",
       "</table>\n",
       "</div>"
      ],
      "text/plain": [
       "  Transaction Date                   Description  \\\n",
       "0       2023-06-13  AMZN MKTP US AMZN.COM BILLWA   \n",
       "1       2023-06-13                     FRISCO TX   \n",
       "2       2023-06-13  AMZN MKTP US AMZN.COM BILLWA   \n",
       "3       2023-06-12           APLPAY STARBUCKS WA   \n",
       "4       2023-06-12    ZELLE PAYMENT TO BOOKSHELF   \n",
       "\n",
       "                                         Institution         Account  \\\n",
       "0       Discover Credit Card - via Direct Web Access        DISCOVER   \n",
       "1       Discover Credit Card - via Direct Web Access        DISCOVER   \n",
       "2       Discover Credit Card - via Direct Web Access        DISCOVER   \n",
       "3  American Express - Amex Account - via Direct W...            AMEX   \n",
       "4                         Chase - via Direct Web API  CHASE CHECKING   \n",
       "\n",
       "         Category Is Hidden Is Pending  Amount Standardized Description  \n",
       "0        Shopping        No         No  -16.63                           \n",
       "1      Gas & Fuel        No         No  -30.00                           \n",
       "2        Shopping        No         No  -23.99                           \n",
       "3          Coffee        No         No  -10.00                           \n",
       "4  Online Payment        No         No  -10.00                           "
      ]
     },
     "execution_count": 189,
     "metadata": {},
     "output_type": "execute_result"
    }
   ],
   "source": [
    "df_full.head()"
   ]
  },
  {
   "cell_type": "code",
   "execution_count": 190,
   "metadata": {},
   "outputs": [
    {
     "data": {
      "text/plain": [
       "<StringArray>\n",
       "[                    'Shopping',                   'Gas & Fuel',\n",
       "                       'Coffee',               'Online Payment',\n",
       "                       'Income',           'Restaurants/Dining',\n",
       "      'Fast Food & Convenience',                    'Groceries',\n",
       "                   'Rental Car',      'Phone, Internet & Cable',\n",
       "                          'Gym',                        'Tolls',\n",
       "                    'Rideshare',                'Subscriptions',\n",
       "                 'Auto Service',           'Investment Savings',\n",
       "                         'Rent',         'Investment Transfers',\n",
       "          'Shipping & Handling',                      'Savings',\n",
       "                    'Transfers',              'Interest Income',\n",
       "               'Fees & Charges',             'Auto & Transport',\n",
       "          'Credit Card Payment',                        'Hotel',\n",
       "       'Furniture & Home Decor',           'Household Services',\n",
       "                     'Cash/ATM',                     'Bank Fee',\n",
       "                         'Food',                'Entertainment',\n",
       "                    'Insurance',                   'Air Travel',\n",
       " 'Home Improvement/Maintenance',                        'Books',\n",
       "                   'Tax Refund',                        'Taxes',\n",
       "                     'Pharmacy',       'Electronics & Software',\n",
       "                     'Clothing',                      'Charity',\n",
       "            'Bills & Utilities',              'Paycheck/Salary',\n",
       "                 'Hair & Nails',                      'Parking',\n",
       "             'Merchandise/Misc',                        'Gifts',\n",
       "       'Energy, Gas & Electric',                        'Water',\n",
       "            'Travel & Vacation',                    'Education',\n",
       "               'Alcohol & Bars',                      'Medical',\n",
       "                        'Other',                      'Payment',\n",
       "                  'Restaurants',                      'Grocery',\n",
       "                          'Gas']\n",
       "Length: 59, dtype: string"
      ]
     },
     "execution_count": 190,
     "metadata": {},
     "output_type": "execute_result"
    }
   ],
   "source": [
    "df_full['Category'].unique()"
   ]
  },
  {
   "cell_type": "code",
   "execution_count": 191,
   "metadata": {},
   "outputs": [],
   "source": [
    "patterns_map = {\n",
    "    'COFFEE': [r'STARBUCKS', r'DUNKIN',r'PANERA'],\n",
    "    'SHOPPING':[r'WALMART',r'TARGET'],\n",
    "    'RENT':[r'BELL WEB',r'SUMMIT',r'PALMS ASSOCIATES'],\n",
    "    'ENERGY, GAS & ELECTRIC':[r'TXU'],\n",
    "    'RESTAURANTS/DINING':[r'HELLO INDIA',r'HELLO! INDIA'],\n",
    "    'SUBSCRIPTIONS':[r'ENVATO',r'STRATA',r'VIDIQ',r'YOUTUBE',r'HUNTER.IO'],\n",
    "    'PAYMENT':[r'USCIS',r'ZELLE PAYMENT TO'],\n",
    "    'INCOME':[r'ZELLE PAYMENT FROM'],\n",
    "    'ENTERTAINMENT':[r'SIXFLAGS'],\n",
    "    'GYM':[r'CRUNCH']\n",
    "}\n",
    "\n",
    "# Function to map the new category\n",
    "def map_category(row):\n",
    "    description_upper = row['Description'].upper()  # Convert to uppercase for case-insensitive matching\n",
    "    for category, patterns in patterns_map.items():\n",
    "        if any(re.search(pattern, description_upper) for pattern in patterns):\n",
    "            return category\n",
    "    return row['Category'].upper()\n",
    "    \n",
    "df_full['Category'] = df_full.apply(map_category, axis=1)\n",
    "\n"
   ]
  },
  {
   "cell_type": "code",
   "execution_count": 192,
   "metadata": {},
   "outputs": [],
   "source": [
    "master_category_dict={\n",
    "'SHOPPING/GROCERIES':['Groceries','Grocery','Shopping','Furniture & Home Decor','Merchandise/Misc','Gifts','Clothing','Home Improvement/Maintenance','Books','Electronics & Software'],\n",
    "'ENTERTAINMENT':['Entertainment','Air Travel','Hotel','Rental Car','Travel & Vacation'],\n",
    "'FOOD AND DINING':['Restaurants','Restaurants/Dining','Fast Food & Convenience',\t'Coffee','Food','Alcohol & Bars'],\n",
    "'SUBSCRIPTIONS':['Subscriptions','Education'],\n",
    "'HEALTH':['Gym'],\n",
    "'BILLS AND UTILITIES':['Phone, Internet & Cable','Gas & Fuel','Gas','Insurance','Auto Service','Energy, Gas & Electric','Auto & Transport',\n",
    "                       \t'Water'\t,'Bills & Utilities','Rent','Tolls','Rideshare','Parking','Pharmacy','Hair & Nails','Medical','Household Services'],\n",
    "'MISCELLANEOUS':['Transfers','Credit Card Payment','Savings','Investment Savings','Investment Transfers','Online Payment','Bank Fee'\n",
    "                 \t,'Fees & Charges','Shipping & Handling','Taxes','Cash/ATM','Charity','Payment','Other'],\n",
    "'INCOME':['Interest Income','Paycheck/Salary','Tax Refund','Income']\n",
    "    \n",
    "}\n",
    "\n",
    "def map_category(row):\n",
    "    for category, patterns in master_category_dict.items():\n",
    "        if any(pattern.lower() in row['Category'].lower() for pattern in patterns):\n",
    "            return category\n",
    "    return 'OTHER'\n",
    "    \n",
    "df_full['Master Category'] = df_full.apply(map_category, axis=1)\n"
   ]
  },
  {
   "cell_type": "code",
   "execution_count": 193,
   "metadata": {},
   "outputs": [
    {
     "data": {
      "text/plain": [
       "array(['SHOPPING/GROCERIES', 'BILLS AND UTILITIES', 'FOOD AND DINING',\n",
       "       'MISCELLANEOUS', 'INCOME', 'HEALTH', 'SUBSCRIPTIONS',\n",
       "       'ENTERTAINMENT'], dtype=object)"
      ]
     },
     "execution_count": 193,
     "metadata": {},
     "output_type": "execute_result"
    }
   ],
   "source": [
    "df_full['Master Category'].unique()"
   ]
  },
  {
   "cell_type": "code",
   "execution_count": 194,
   "metadata": {},
   "outputs": [
    {
     "data": {
      "text/html": [
       "<div>\n",
       "<style scoped>\n",
       "    .dataframe tbody tr th:only-of-type {\n",
       "        vertical-align: middle;\n",
       "    }\n",
       "\n",
       "    .dataframe tbody tr th {\n",
       "        vertical-align: top;\n",
       "    }\n",
       "\n",
       "    .dataframe thead th {\n",
       "        text-align: right;\n",
       "    }\n",
       "</style>\n",
       "<table border=\"1\" class=\"dataframe\">\n",
       "  <thead>\n",
       "    <tr style=\"text-align: right;\">\n",
       "      <th></th>\n",
       "      <th>Transaction Date</th>\n",
       "      <th>Description</th>\n",
       "      <th>Institution</th>\n",
       "      <th>Account</th>\n",
       "      <th>Category</th>\n",
       "      <th>Is Hidden</th>\n",
       "      <th>Is Pending</th>\n",
       "      <th>Amount</th>\n",
       "      <th>Standardized Description</th>\n",
       "      <th>Master Category</th>\n",
       "    </tr>\n",
       "  </thead>\n",
       "  <tbody>\n",
       "    <tr>\n",
       "      <th>0</th>\n",
       "      <td>2023-06-13</td>\n",
       "      <td>AMZN MKTP US AMZN.COM BILLWA</td>\n",
       "      <td>Discover Credit Card - via Direct Web Access</td>\n",
       "      <td>DISCOVER</td>\n",
       "      <td>SHOPPING</td>\n",
       "      <td>No</td>\n",
       "      <td>No</td>\n",
       "      <td>-16.63</td>\n",
       "      <td></td>\n",
       "      <td>SHOPPING/GROCERIES</td>\n",
       "    </tr>\n",
       "    <tr>\n",
       "      <th>1</th>\n",
       "      <td>2023-06-13</td>\n",
       "      <td>FRISCO TX</td>\n",
       "      <td>Discover Credit Card - via Direct Web Access</td>\n",
       "      <td>DISCOVER</td>\n",
       "      <td>GAS &amp; FUEL</td>\n",
       "      <td>No</td>\n",
       "      <td>No</td>\n",
       "      <td>-30.00</td>\n",
       "      <td></td>\n",
       "      <td>BILLS AND UTILITIES</td>\n",
       "    </tr>\n",
       "    <tr>\n",
       "      <th>2</th>\n",
       "      <td>2023-06-13</td>\n",
       "      <td>AMZN MKTP US AMZN.COM BILLWA</td>\n",
       "      <td>Discover Credit Card - via Direct Web Access</td>\n",
       "      <td>DISCOVER</td>\n",
       "      <td>SHOPPING</td>\n",
       "      <td>No</td>\n",
       "      <td>No</td>\n",
       "      <td>-23.99</td>\n",
       "      <td></td>\n",
       "      <td>SHOPPING/GROCERIES</td>\n",
       "    </tr>\n",
       "    <tr>\n",
       "      <th>3</th>\n",
       "      <td>2023-06-12</td>\n",
       "      <td>APLPAY STARBUCKS WA</td>\n",
       "      <td>American Express - Amex Account - via Direct W...</td>\n",
       "      <td>AMEX</td>\n",
       "      <td>COFFEE</td>\n",
       "      <td>No</td>\n",
       "      <td>No</td>\n",
       "      <td>-10.00</td>\n",
       "      <td></td>\n",
       "      <td>FOOD AND DINING</td>\n",
       "    </tr>\n",
       "    <tr>\n",
       "      <th>4</th>\n",
       "      <td>2023-06-12</td>\n",
       "      <td>ZELLE PAYMENT TO BOOKSHELF</td>\n",
       "      <td>Chase - via Direct Web API</td>\n",
       "      <td>CHASE CHECKING</td>\n",
       "      <td>PAYMENT</td>\n",
       "      <td>No</td>\n",
       "      <td>No</td>\n",
       "      <td>-10.00</td>\n",
       "      <td></td>\n",
       "      <td>MISCELLANEOUS</td>\n",
       "    </tr>\n",
       "  </tbody>\n",
       "</table>\n",
       "</div>"
      ],
      "text/plain": [
       "  Transaction Date                   Description  \\\n",
       "0       2023-06-13  AMZN MKTP US AMZN.COM BILLWA   \n",
       "1       2023-06-13                     FRISCO TX   \n",
       "2       2023-06-13  AMZN MKTP US AMZN.COM BILLWA   \n",
       "3       2023-06-12           APLPAY STARBUCKS WA   \n",
       "4       2023-06-12    ZELLE PAYMENT TO BOOKSHELF   \n",
       "\n",
       "                                         Institution         Account  \\\n",
       "0       Discover Credit Card - via Direct Web Access        DISCOVER   \n",
       "1       Discover Credit Card - via Direct Web Access        DISCOVER   \n",
       "2       Discover Credit Card - via Direct Web Access        DISCOVER   \n",
       "3  American Express - Amex Account - via Direct W...            AMEX   \n",
       "4                         Chase - via Direct Web API  CHASE CHECKING   \n",
       "\n",
       "     Category Is Hidden Is Pending  Amount Standardized Description  \\\n",
       "0    SHOPPING        No         No  -16.63                            \n",
       "1  GAS & FUEL        No         No  -30.00                            \n",
       "2    SHOPPING        No         No  -23.99                            \n",
       "3      COFFEE        No         No  -10.00                            \n",
       "4     PAYMENT        No         No  -10.00                            \n",
       "\n",
       "       Master Category  \n",
       "0   SHOPPING/GROCERIES  \n",
       "1  BILLS AND UTILITIES  \n",
       "2   SHOPPING/GROCERIES  \n",
       "3      FOOD AND DINING  \n",
       "4        MISCELLANEOUS  "
      ]
     },
     "execution_count": 194,
     "metadata": {},
     "output_type": "execute_result"
    }
   ],
   "source": [
    "df_full.head()"
   ]
  },
  {
   "cell_type": "code",
   "execution_count": 195,
   "metadata": {},
   "outputs": [],
   "source": [
    "desc_map = {\n",
    "    'STARBUCKS': [r'STARBUCKS'],\n",
    "    'DUNKIN': [r'DUNKIN'],\n",
    "    '7-ELEVEN':[r'7-ELEVEN'],\n",
    "    'WALMART':[r'WALMART',r'WM',r'WAL-MART'],\n",
    "    'TARGET':[r'TARGET'],\n",
    "    'HOME DEPOT':[r'HOME DEPOT'],\n",
    "    'AMAZON':[r'AMAZON',r'AMZN'],\n",
    "    'COSTCO':[r'COSTCO'],\n",
    "    'HELLO INDIA': [r'HELLO INDIA',r'HELLO! INDIA'],\n",
    "    'PANERA':[r'PANERA'],\n",
    "    'TELADOC':[r'TELADOC'],\n",
    "    'SIGNIFY':[r'SIGNIFY'],\n",
    "    'CMA CGM':[r'CMA CGM']\n",
    "}\n",
    "\n",
    "def map_description(row):\n",
    "    description_upper = row['Description'].upper()  # Convert to uppercase for case-insensitive matching\n",
    "    for category, patterns in desc_map.items():\n",
    "        if any(re.search(pattern, description_upper) for pattern in patterns):\n",
    "            return category\n",
    "    return row['Description'].upper()\n",
    "    \n",
    "\n",
    "# Apply the function to create a new column 'Mapped Description'\n",
    "df_full['Standardized Description'] = df_full.apply(map_description,axis=1)\n"
   ]
  },
  {
   "cell_type": "markdown",
   "metadata": {},
   "source": [
    "Filter out 7 ELEVEN as it needs cleaning"
   ]
  },
  {
   "cell_type": "code",
   "execution_count": 196,
   "metadata": {},
   "outputs": [],
   "source": [
    "\n",
    "filtered_df = df_full[~(df_full['Description'].str.match('7-ELEVEN', case=False, na=False) & (df_full['Category'] == 'FAST FOOD & CONVENIENCE'))]\n"
   ]
  },
  {
   "cell_type": "markdown",
   "metadata": {},
   "source": [
    "7-ELEVEN "
   ]
  },
  {
   "cell_type": "code",
   "execution_count": 197,
   "metadata": {},
   "outputs": [],
   "source": [
    "df_7_eleven = df_full[df_full['Description'].str.match('7-ELEVEN', case=False, na=False) & (df_full['Category']=='FAST FOOD & CONVENIENCE')]\n",
    "df_7_eleven.loc[:,'Amount']=df_7_eleven['Amount']+2.0\n",
    "df_7_eleven_coffee=df_7_eleven.copy()\n",
    "df_7_eleven_coffee.loc[:,'Amount']=-2.00\n",
    "df_7_eleven_coffee.loc[:,'Category']='COFFEE'\n",
    "df_7_eleven_coffee.loc[:,'Master Category']='FOOD AND DINING'\n",
    "\n",
    "df_7_eleven_transformed = pd.concat([df_7_eleven_coffee, df_7_eleven], ignore_index=True)\n"
   ]
  },
  {
   "cell_type": "code",
   "execution_count": 198,
   "metadata": {},
   "outputs": [],
   "source": [
    "df_final=pd.concat([filtered_df, df_7_eleven_transformed], ignore_index=True)"
   ]
  },
  {
   "cell_type": "code",
   "execution_count": 199,
   "metadata": {},
   "outputs": [
    {
     "data": {
      "text/plain": [
       "0"
      ]
     },
     "execution_count": 199,
     "metadata": {},
     "output_type": "execute_result"
    }
   ],
   "source": [
    "len(df_final)\n",
    "df_final.head(100)\n",
    "len(df_final[(df_final['Transaction Date'] >= '2022-06-01') & (df_final['Transaction Date'] <= '2024-07-01')])\n",
    "sum(df_final.isnull().any(axis=1))\n"
   ]
  },
  {
   "cell_type": "code",
   "execution_count": 200,
   "metadata": {},
   "outputs": [
    {
     "data": {
      "text/plain": [
       "2547"
      ]
     },
     "execution_count": 200,
     "metadata": {},
     "output_type": "execute_result"
    }
   ],
   "source": [
    "len(df_final)"
   ]
  },
  {
   "cell_type": "code",
   "execution_count": 201,
   "metadata": {},
   "outputs": [],
   "source": [
    "server = 'localhost\\\\sqlexpress'\n",
    "database = 'database'\n",
    "\n",
    "engine = create_engine(f'mssql+pyodbc://@{server}/{database}?driver=ODBC+Driver+17+for+SQL+Server')"
   ]
  },
  {
   "cell_type": "code",
   "execution_count": 202,
   "metadata": {},
   "outputs": [
    {
     "data": {
      "text/plain": [
       "39"
      ]
     },
     "execution_count": 202,
     "metadata": {},
     "output_type": "execute_result"
    }
   ],
   "source": [
    "df_final.to_sql('expense_tracking_data', con=engine, if_exists='replace', index=False)\n"
   ]
  },
  {
   "cell_type": "code",
   "execution_count": 203,
   "metadata": {},
   "outputs": [],
   "source": [
    "# filtered_df.groupby('Standardized Description')['Amount'].sum().sort_values(ascending=True)\n",
    "# filtered_df['Amount'].sum()\n",
    "# df_final.to_csv('Transactions Full.csv')\n",
    "\n"
   ]
  }
 ],
 "metadata": {
  "kernelspec": {
   "display_name": "Python 3",
   "language": "python",
   "name": "python3"
  },
  "language_info": {
   "codemirror_mode": {
    "name": "ipython",
    "version": 3
   },
   "file_extension": ".py",
   "mimetype": "text/x-python",
   "name": "python",
   "nbconvert_exporter": "python",
   "pygments_lexer": "ipython3",
   "version": "3.12.4"
  }
 },
 "nbformat": 4,
 "nbformat_minor": 2
}
